{
  "cells": [
    {
      "cell_type": "markdown",
      "metadata": {
        "id": "Ls4a_USPOald"
      },
      "source": [
        "Import Libraries"
      ]
    },
    {
      "cell_type": "code",
      "execution_count": 1,
      "metadata": {
        "id": "x7MCMPm7OeKu"
      },
      "outputs": [],
      "source": [
        "import pandas as pd\n",
        "import re\n",
        "import unicodedata"
      ]
    },
    {
      "cell_type": "markdown",
      "metadata": {
        "id": "xHTztbYGOg1b"
      },
      "source": [
        "#Data Collection\n",
        "Load the first CSV file containing years 2000-2024"
      ]
    },
    {
      "cell_type": "code",
      "execution_count": 2,
      "metadata": {
        "id": "9xCWgzTsPF6_"
      },
      "outputs": [],
      "source": [
        "try:\n",
        "    df_spotify = pd.read_csv('billboard_24years_lyrics_spotify.csv', encoding='utf-8')\n",
        "except UnicodeDecodeError:\n",
        "    df_spotify = pd.read_csv('billboard_24years_lyrics_spotify.csv', encoding='latin1')"
      ]
    },
    {
      "cell_type": "markdown",
      "metadata": {
        "id": "Zu0rFqJCSDWl"
      },
      "source": [
        "Load the second CSV file containing years 1964-2015"
      ]
    },
    {
      "cell_type": "code",
      "execution_count": 3,
      "metadata": {
        "id": "N9fzRpZCSDsH"
      },
      "outputs": [],
      "source": [
        "try:\n",
        "    df_1964_2015 = pd.read_csv('billboard_lyrics_1964-2015.csv', encoding='utf-8')\n",
        "except UnicodeDecodeError:\n",
        "    df_1964_2015 = pd.read_csv('billboard_lyrics_1964-2015.csv', encoding='latin1')"
      ]
    },
    {
      "cell_type": "markdown",
      "metadata": {
        "id": "7ZynI2YnTZ0T"
      },
      "source": [
        "#Data Preprocessing"
      ]
    },
    {
      "cell_type": "markdown",
      "metadata": {
        "id": "DSqaVEJDPJ_S"
      },
      "source": [
        "Filter for years 2016 to 2024"
      ]
    },
    {
      "cell_type": "code",
      "execution_count": 4,
      "metadata": {
        "id": "D-VjTYOhPKJd"
      },
      "outputs": [],
      "source": [
        "df_spotify_filtered = df_spotify[df_spotify['year'].between(2016, 2024)].copy()"
      ]
    },
    {
      "cell_type": "markdown",
      "metadata": {
        "id": "BReRcbzmPSRc"
      },
      "source": [
        "Remove duplicate records based on all columns"
      ]
    },
    {
      "cell_type": "code",
      "execution_count": 5,
      "metadata": {
        "id": "dTMl-vioQVQz"
      },
      "outputs": [],
      "source": [
        "df_spotify_filtered = df_spotify_filtered.drop_duplicates()"
      ]
    },
    {
      "cell_type": "markdown",
      "metadata": {
        "id": "v31qzSClQcFi"
      },
      "source": [
        "Function to clean lyrics"
      ]
    },
    {
      "cell_type": "code",
      "execution_count": 6,
      "metadata": {
        "id": "xQQ_hUEJQbGn"
      },
      "outputs": [],
      "source": [
        "def clean_lyrics_ascii(text):\n",
        "    if pd.isna(text):  # Handle missing values\n",
        "        return ''\n",
        "    text = text.lower() # Convert to lowercase\n",
        "\n",
        "    text = re.sub(r'[^\\x00-\\x7F]+', ' ', text) # Remove non-ASCII characters\n",
        "\n",
        "    text = re.sub(r'\\s*\\'\\s*', '', text) # Remove apostrophes and merge contractions\n",
        "\n",
        "    text = re.sub(r'[^a-z0-9\\s]', ' ', text) # Remove all punctuation except spaces, keep letters and numbers\n",
        "\n",
        "    text = re.sub(r'\\d+embed$', '', text) # Remove number followed by \"embed\" at the end\n",
        "\n",
        "    text = re.sub(r'\\s+', ' ', text).strip() # Replace multiple spaces with a single space and remove leading/trailing whitespace\n",
        "\n",
        "    return text\n",
        "\n",
        "df_spotify_filtered['lyrics_cleaned'] = df_spotify_filtered['lyrics'].apply(clean_lyrics_ascii)"
      ]
    },
    {
      "cell_type": "markdown",
      "metadata": {
        "id": "7SfBhgKdRU50"
      },
      "source": [
        "Select and rename columns for consistency"
      ]
    },
    {
      "cell_type": "code",
      "execution_count": 7,
      "metadata": {
        "id": "TC3idw3CRVxQ"
      },
      "outputs": [],
      "source": [
        "df_spotify_cleaned = df_spotify_filtered[['song', 'band_singer', 'year', 'ranking', 'lyrics_cleaned']]\n",
        "\n",
        "df_spotify_cleaned = df_spotify_cleaned.rename(columns={\n",
        "    'band_singer': 'artist'\n",
        "})"
      ]
    },
    {
      "cell_type": "markdown",
      "metadata": {
        "id": "F4Cwhi7oS85r"
      },
      "source": [
        "Rename columns to match the first dataset"
      ]
    },
    {
      "cell_type": "code",
      "execution_count": 8,
      "metadata": {
        "id": "DOLWBsW8S94O"
      },
      "outputs": [],
      "source": [
        "df_1964_2015 = df_1964_2015.rename(columns={\n",
        "    'Song': 'song',\n",
        "    'Artist': 'artist',\n",
        "    'Year': 'year',\n",
        "    'Rank': 'ranking',\n",
        "    'Lyrics': 'lyrics_cleaned'\n",
        "})"
      ]
    },
    {
      "cell_type": "markdown",
      "metadata": {
        "id": "k-DnFr28TBz3"
      },
      "source": [
        "Select only the required columns"
      ]
    },
    {
      "cell_type": "code",
      "execution_count": 9,
      "metadata": {
        "id": "2B30YuytTCBh"
      },
      "outputs": [],
      "source": [
        "df_1964_2015_cleaned = df_1964_2015[['song', 'artist', 'year', 'ranking', 'lyrics_cleaned']]"
      ]
    },
    {
      "cell_type": "markdown",
      "metadata": {
        "id": "DEfcr1qZTj1Q"
      },
      "source": [
        "Combine the datasets"
      ]
    },
    {
      "cell_type": "code",
      "execution_count": 10,
      "metadata": {
        "id": "ee96PwPRTkNl"
      },
      "outputs": [],
      "source": [
        "df_combined = pd.concat([df_1964_2015_cleaned, df_spotify_cleaned], ignore_index=True)"
      ]
    },
    {
      "cell_type": "markdown",
      "metadata": {
        "id": "lvdp6KE7T-01"
      },
      "source": [
        "Remove duplicates across the combined dataset (based on all columns)"
      ]
    },
    {
      "cell_type": "code",
      "execution_count": 11,
      "metadata": {
        "id": "B9gPml7mT_EX"
      },
      "outputs": [],
      "source": [
        "df_combined = df_combined.drop_duplicates()"
      ]
    },
    {
      "cell_type": "markdown",
      "metadata": {
        "id": "uF3GhtMmU0u8"
      },
      "source": [
        "Inspect the first few rows of the combined DataFrame"
      ]
    },
    {
      "cell_type": "code",
      "execution_count": 12,
      "metadata": {
        "colab": {
          "base_uri": "https://localhost:8080/"
        },
        "id": "O-f9ISgmU1BV",
        "outputId": "79bf8d8b-e0f5-4975-ce6c-31337d078e6b"
      },
      "outputs": [
        {
          "output_type": "stream",
          "name": "stdout",
          "text": [
            "Combined Cleaned DataFrame (First 5 rows):\n",
            "                                       song                         artist  \\\n",
            "0                               wooly bully  sam the sham and the pharaohs   \n",
            "1  i cant help myself sugar pie honey bunch                      four tops   \n",
            "2                i cant get no satisfaction             the rolling stones   \n",
            "3                       you were on my mind                        we five   \n",
            "4              youve lost that lovin feelin         the righteous brothers   \n",
            "\n",
            "   year  ranking                                     lyrics_cleaned  \n",
            "0  1965        1  sam the sham miscellaneous wooly bully wooly b...  \n",
            "1  1965        2   sugar pie honey bunch you know that i love yo...  \n",
            "2  1965        3                                                     \n",
            "3  1965        4   when i woke up this morning you were on my mi...  \n",
            "4  1965        5   you never close your eyes anymore when i kiss...  \n",
            "\n",
            "Original vs Cleaned Lyrics (First 5 rows from 2016-2024 data):\n",
            "Song: Love Yourself (Year: 2016, Rank: 1)\n",
            "Original: \r\n",
            "For all the times that you rained on my parade\r\n",
            "And all the clubs you get in using my name\r\n",
            "You think you broke my heart, oh girl, for goodness' sake\r\n",
            "You think I'm cryin' on my own, well, I ain't\r\n",
            "\r\n",
            "And I didn't wanna write a song\r\n",
            "'Cause I didn't want anyone thinking I still care\r\n",
            "I don't, but you still hit my phone up\r\n",
            "And baby, I'll be movin' on\r\n",
            "And I think you should be somethin' I don't wanna hold back\r\n",
            "Maybe you should know that\r\n",
            "\r\n",
            "My mama don't like you and she likes everyone\r\n",
            "And I never like to admit that I was wrong\r\n",
            "And I've been so caught up in my job, didn't see what's going on\r\n",
            "But now I know, I'm better sleeping on my own\r\n",
            "\r\n",
            "'Cause if you like the way you look that much\r\n",
            "Oh baby, you should go and love yourself\r\n",
            "And if you think that I'm still holdin' on to somethin'\r\n",
            "You should go and love yourself\r\n",
            "You might also like\r\n",
            "But when you told me that you hated my friends\r\n",
            "The only problem was with you and not them\r\n",
            "And every time you told me my opinion was wrong\r\n",
            "And tried to make me forget where I came from\r\n",
            "\r\n",
            "And I didn't wanna write a song\r\n",
            "'Cause I didn't want anyone thinking I still care\r\n",
            "I don't, but you still hit my phone up\r\n",
            "And baby, I'll be movin' on\r\n",
            "And I think you should be somethin' I don't wanna hold back\r\n",
            "Maybe you should know that\r\n",
            "\r\n",
            "My mama don't like you and she likes everyone\r\n",
            "And I never like to admit that I was wrong\r\n",
            "And I've been so caught up in my job, didn't see what's going on\r\n",
            "But now I know, I'm better sleeping on my own\r\n",
            "\r\n",
            "'Cause if you like the way you look that much\r\n",
            "Oh baby, you should go and love yourself\r\n",
            "And if you think that I'm still holdin' on to somethin'\r\n",
            "You should go and love yourself\r\n",
            "For all the times that you made me feel small\r\n",
            "I fell in love, now I feel nothin' at all\r\n",
            "I never felt so low and I was vulnerable\r\n",
            "Was I a fool to let you break down my walls?\r\n",
            "\r\n",
            "'Cause if you like the way you look that much\r\n",
            "Oh baby, you should go and love yourself\r\n",
            "And if you think that I'm still holdin' on to somethin'\r\n",
            "You should go and love yourself\r\n",
            "'Cause if you like the way you look that much\r\n",
            "Oh baby, you should go and love yourself\r\n",
            "And if you think that I'm still holdin' on to somethin'\r\n",
            "You should go and love yourself150Embed\n",
            "Cleaned: for all the times that you rained on my parade and all the clubs you get in using my name you think you broke my heart oh girl for goodnesssake you think im cryinon my own well i aint and i didnt wanna write a songcause i didnt want anyone thinking i still care i dont but you still hit my phone up and baby ill be movinon and i think you should be somethini dont wanna hold back maybe you should know that my mama dont like you and she likes everyone and i never like to admit that i was wrong and ive been so caught up in my job didnt see whats going on but now i know im better sleeping on my owncause if you like the way you look that much oh baby you should go and love yourself and if you think that im still holdinon to somethinyou should go and love yourself you might also like but when you told me that you hated my friends the only problem was with you and not them and every time you told me my opinion was wrong and tried to make me forget where i came from and i didnt wanna write a songcause i didnt want anyone thinking i still care i dont but you still hit my phone up and baby ill be movinon and i think you should be somethini dont wanna hold back maybe you should know that my mama dont like you and she likes everyone and i never like to admit that i was wrong and ive been so caught up in my job didnt see whats going on but now i know im better sleeping on my owncause if you like the way you look that much oh baby you should go and love yourself and if you think that im still holdinon to somethinyou should go and love yourself for all the times that you made me feel small i fell in love now i feel nothinat all i never felt so low and i was vulnerable was i a fool to let you break down my walls cause if you like the way you look that much oh baby you should go and love yourself and if you think that im still holdinon to somethinyou should go and love yourselfcause if you like the way you look that much oh baby you should go and love yourself and if you think that im still holdinon to somethinyou should go and love yourself\n",
            "--------------------------------------------------\n",
            "Song: Sorry (Year: 2016, Rank: 2)\n",
            "Original: \r\n",
            "You gotta go and get angry at all of my honesty\r\n",
            "You know I try, but I don't do too well with apologies\r\n",
            "I hope I don't run out of time, could someone call a referee?\r\n",
            "'Cause I just need one more shot at forgiveness\r\n",
            "I know you know that I made those mistakes maybe once or twice\r\n",
            "And by once or twice, I mean maybe a couple of hundred times\r\n",
            "So let me, oh, let me redeem, oh, redeem, oh, myself tonight\r\n",
            "'Cause I just need one more shot at second chances\r\n",
            "\r\n",
            "Yeah, is it too late now to say sorry?\r\n",
            "'Cause I'm missing more than just your body\r\n",
            "Oh, is it too late now to say sorry?\r\n",
            "Yeah, I know that I let you down\r\n",
            "Is it too late to say I'm sorry now?\r\n",
            "\r\n",
            "I'm sorry, yeah\r\n",
            "Sorry, yeah\r\n",
            "Sorry\r\n",
            "Yeah, I know that I let you down\r\n",
            "Is it too late to say I'm sorry now?\r\n",
            "You might also like\r\n",
            "I'll take every single piece of the blame if you want me to\r\n",
            "But you know that there is no innocent one in this game for two\r\n",
            "I'll go, I'll go and then you go, you go out and spill the truth\r\n",
            "Can we both say the words and forget this?\r\n",
            "\r\n",
            "Yeah, is it too late now to say sorry?\r\n",
            "'Cause I'm missing more than just your body\r\n",
            "Oh, is it too late now to say sorry?\r\n",
            "Yeah, I know that I let you down\r\n",
            "Is it too late to say I'm sorry now?\r\n",
            "I'm not just tryna get you back on me (Oh, no, no)\r\n",
            "'Cause I'm missing more than just your body (Your body)\r\n",
            "Oh, is it too late now to say sorry?\r\n",
            "Yeah, I know that I let you down\r\n",
            "Is it too late to say I'm sorry now?\r\n",
            "\r\n",
            "I'm sorry, yeah\r\n",
            "Sorry, oh\r\n",
            "Sorry\r\n",
            "Yeah, I know that I let you down (I know I let you down)\r\n",
            "Is it too late to say I'm sorry now?\r\n",
            "I'm sorry, yeah\r\n",
            "Sorry, oh\r\n",
            "Sorry\r\n",
            "Yeah, I know that I let you down (I know I let you down)\r\n",
            "Is it too late to say I'm sorry now?101Embed\n",
            "Cleaned: you gotta go and get angry at all of my honesty you know i try but i dont do too well with apologies i hope i dont run out of time could someone call a referee cause i just need one more shot at forgiveness i know you know that i made those mistakes maybe once or twice and by once or twice i mean maybe a couple of hundred times so let me oh let me redeem oh redeem oh myself tonightcause i just need one more shot at second chances yeah is it too late now to say sorry cause im missing more than just your body oh is it too late now to say sorry yeah i know that i let you down is it too late to say im sorry now im sorry yeah sorry yeah sorry yeah i know that i let you down is it too late to say im sorry now you might also like ill take every single piece of the blame if you want me to but you know that there is no innocent one in this game for two ill go ill go and then you go you go out and spill the truth can we both say the words and forget this yeah is it too late now to say sorry cause im missing more than just your body oh is it too late now to say sorry yeah i know that i let you down is it too late to say im sorry now im not just tryna get you back on me oh no no cause im missing more than just your body your body oh is it too late now to say sorry yeah i know that i let you down is it too late to say im sorry now im sorry yeah sorry oh sorry yeah i know that i let you down i know i let you down is it too late to say im sorry now im sorry yeah sorry oh sorry yeah i know that i let you down i know i let you down is it too late to say im sorry now\n",
            "--------------------------------------------------\n",
            "Song: One Dance (Year: 2016, Rank: 3)\n",
            "Original: Baby, I like your style\r\n",
            "\r\n",
            "Grips on your waist, front way, back way\r\n",
            "You know that I don't play\r\n",
            "Streets not safe but I never run away\r\n",
            "Even when I'm away\r\n",
            "Oti, oti\r\n",
            "There's never much love when we go OT\r\n",
            "I pray to make it back in one piece\r\n",
            "I pray, I pray\r\n",
            "\r\n",
            "That's why I need a one dance\r\n",
            "Got a Hennessy in my hand\r\n",
            "One more time 'fore I go\r\n",
            "Higher powers taking a hold on me\r\n",
            "I need a one dance\r\n",
            "Got a Hennessy in my hand\r\n",
            "One more time 'fore I go\r\n",
            "Higher powers taking a hold on me\r\n",
            "Baby, I like your style\r\n",
            "You might also like\r\n",
            "Strength and guidance\r\n",
            "All that I'm wishing for my friends\r\n",
            "Nobody makes it from my ends\r\n",
            "I had to bust up the silence\r\n",
            "You know you gotta stick by me\r\n",
            "Soon as you see the text, reply me\r\n",
            "I don't wanna spend time fighting\r\n",
            "We've got no time, and that's why\r\n",
            "\r\n",
            "I need a one dance\r\n",
            "Got a Hennessy in my hand\r\n",
            "One more time 'fore I go\r\n",
            "Higher powers taking a hold on me\r\n",
            "I need a one dance\r\n",
            "Got a Hennessy in my hand\r\n",
            "One more time 'fore I go\r\n",
            "Higher powers taking a hold on me\r\n",
            "\r\n",
            "Got a pretty girl and she love me long time\r\n",
            "Wine it, wine it, she love me long time\r\n",
            "Oh, yeah, very long time\r\n",
            "Back up, back up, back up, and wine am\r\n",
            "Back up, back up, and wine am, girl, just\r\n",
            "Back up, back up, back up, and wine am\r\n",
            "Oh, yeah, very long time\r\n",
            "Back, up, back up and wine am, girl\r\n",
            "Oh, tell me, I need to know\r\n",
            "Where do you wanna go?\r\n",
            "'Cause if you're down, I'll take it slow\r\n",
            "Make you lose control\r\n",
            "\r\n",
            "Where, where, where\r\n",
            "Where, where, where, where (Oh, yeah, very long time)\r\n",
            "Where, where, where (Back up, back up, and wine am, girl)\r\n",
            "Where, where, where, where\r\n",
            "'Cause if you're down (Back up, back up, and–)\r\n",
            "'Cause if you're down (Back up, back up, and–)\r\n",
            "'Cause if you're down (Back up, back up, and–)\r\n",
            "\r\n",
            "I need a one dance (Where, where, where)\r\n",
            "Got a Hennessy in my hand (Where, where, where, where)\r\n",
            "One more time 'fore I go (Where)\r\n",
            "Higher powers taking a hold on me (Where, where, where, where)\r\n",
            "I need a one dance\r\n",
            "Got a Hennessy in my hand\r\n",
            "One more time 'fore I go\r\n",
            "Higher powers taking a hold on me\r\n",
            "How do you spell \"Hennessy?\"\r\n",
            "I put two \"N\"s and two \"S\"es, is it like that? Hen... Henn... Henn...\r\n",
            "It's definitely not showing up\r\n",
            "I know \"Hennessy\" has two \"S\"es for sure, so I'm gonna take out one of the \"N\"s234Embed\n",
            "Cleaned: baby i like your style grips on your waist front way back way you know that i dont play streets not safe but i never run away even when im away oti oti theres never much love when we go ot i pray to make it back in one piece i pray i pray thats why i need a one dance got a hennessy in my hand one more timefore i go higher powers taking a hold on me i need a one dance got a hennessy in my hand one more timefore i go higher powers taking a hold on me baby i like your style you might also like strength and guidance all that im wishing for my friends nobody makes it from my ends i had to bust up the silence you know you gotta stick by me soon as you see the text reply me i dont wanna spend time fighting weve got no time and thats why i need a one dance got a hennessy in my hand one more timefore i go higher powers taking a hold on me i need a one dance got a hennessy in my hand one more timefore i go higher powers taking a hold on me got a pretty girl and she love me long time wine it wine it she love me long time oh yeah very long time back up back up back up and wine am back up back up and wine am girl just back up back up back up and wine am oh yeah very long time back up back up and wine am girl oh tell me i need to know where do you wanna go cause if youre down ill take it slow make you lose control where where where where where where where oh yeah very long time where where where back up back up and wine am girl where where where wherecause if youre down back up back up and cause if youre down back up back up and cause if youre down back up back up and i need a one dance where where where got a hennessy in my hand where where where where one more timefore i go where higher powers taking a hold on me where where where where i need a one dance got a hennessy in my hand one more timefore i go higher powers taking a hold on me how do you spell hennessy i put two n s and two s es is it like that hen henn henn its definitely not showing up i know hennessy has two s es for sure so im gonna take out one of the n s\n",
            "--------------------------------------------------\n",
            "Song: One Dance (Year: 2016, Rank: 3)\n",
            "Original: Baby, I like your style\r\n",
            "\r\n",
            "Grips on your waist, front way, back way\r\n",
            "You know that I don't play\r\n",
            "Streets not safe but I never run away\r\n",
            "Even when I'm away\r\n",
            "Oti, oti\r\n",
            "There's never much love when we go OT\r\n",
            "I pray to make it back in one piece\r\n",
            "I pray, I pray\r\n",
            "\r\n",
            "That's why I need a one dance\r\n",
            "Got a Hennessy in my hand\r\n",
            "One more time 'fore I go\r\n",
            "Higher powers taking a hold on me\r\n",
            "I need a one dance\r\n",
            "Got a Hennessy in my hand\r\n",
            "One more time 'fore I go\r\n",
            "Higher powers taking a hold on me\r\n",
            "Baby, I like your style\r\n",
            "You might also like\r\n",
            "Strength and guidance\r\n",
            "All that I'm wishing for my friends\r\n",
            "Nobody makes it from my ends\r\n",
            "I had to bust up the silence\r\n",
            "You know you gotta stick by me\r\n",
            "Soon as you see the text, reply me\r\n",
            "I don't wanna spend time fighting\r\n",
            "We've got no time, and that's why\r\n",
            "\r\n",
            "I need a one dance\r\n",
            "Got a Hennessy in my hand\r\n",
            "One more time 'fore I go\r\n",
            "Higher powers taking a hold on me\r\n",
            "I need a one dance\r\n",
            "Got a Hennessy in my hand\r\n",
            "One more time 'fore I go\r\n",
            "Higher powers taking a hold on me\r\n",
            "\r\n",
            "Got a pretty girl and she love me long time\r\n",
            "Wine it, wine it, she love me long time\r\n",
            "Oh, yeah, very long time\r\n",
            "Back up, back up, back up, and wine am\r\n",
            "Back up, back up, and wine am, girl, just\r\n",
            "Back up, back up, back up, and wine am\r\n",
            "Oh, yeah, very long time\r\n",
            "Back, up, back up and wine am, girl\r\n",
            "Oh, tell me, I need to know\r\n",
            "Where do you wanna go?\r\n",
            "'Cause if you're down, I'll take it slow\r\n",
            "Make you lose control\r\n",
            "\r\n",
            "Where, where, where\r\n",
            "Where, where, where, where (Oh, yeah, very long time)\r\n",
            "Where, where, where (Back up, back up, and wine am, girl)\r\n",
            "Where, where, where, where\r\n",
            "'Cause if you're down (Back up, back up, and–)\r\n",
            "'Cause if you're down (Back up, back up, and–)\r\n",
            "'Cause if you're down (Back up, back up, and–)\r\n",
            "\r\n",
            "I need a one dance (Where, where, where)\r\n",
            "Got a Hennessy in my hand (Where, where, where, where)\r\n",
            "One more time 'fore I go (Where)\r\n",
            "Higher powers taking a hold on me (Where, where, where, where)\r\n",
            "I need a one dance\r\n",
            "Got a Hennessy in my hand\r\n",
            "One more time 'fore I go\r\n",
            "Higher powers taking a hold on me\r\n",
            "How do you spell \"Hennessy?\"\r\n",
            "I put two \"N\"s and two \"S\"es, is it like that? Hen... Henn... Henn...\r\n",
            "It's definitely not showing up\r\n",
            "I know \"Hennessy\" has two \"S\"es for sure, so I'm gonna take out one of the \"N\"s234Embed\n",
            "Cleaned: baby i like your style grips on your waist front way back way you know that i dont play streets not safe but i never run away even when im away oti oti theres never much love when we go ot i pray to make it back in one piece i pray i pray thats why i need a one dance got a hennessy in my hand one more timefore i go higher powers taking a hold on me i need a one dance got a hennessy in my hand one more timefore i go higher powers taking a hold on me baby i like your style you might also like strength and guidance all that im wishing for my friends nobody makes it from my ends i had to bust up the silence you know you gotta stick by me soon as you see the text reply me i dont wanna spend time fighting weve got no time and thats why i need a one dance got a hennessy in my hand one more timefore i go higher powers taking a hold on me i need a one dance got a hennessy in my hand one more timefore i go higher powers taking a hold on me got a pretty girl and she love me long time wine it wine it she love me long time oh yeah very long time back up back up back up and wine am back up back up and wine am girl just back up back up back up and wine am oh yeah very long time back up back up and wine am girl oh tell me i need to know where do you wanna go cause if youre down ill take it slow make you lose control where where where where where where where oh yeah very long time where where where back up back up and wine am girl where where where wherecause if youre down back up back up and cause if youre down back up back up and cause if youre down back up back up and i need a one dance where where where got a hennessy in my hand where where where where one more timefore i go where higher powers taking a hold on me where where where where i need a one dance got a hennessy in my hand one more timefore i go higher powers taking a hold on me how do you spell hennessy i put two n s and two s es is it like that hen henn henn its definitely not showing up i know hennessy has two s es for sure so im gonna take out one of the n s\n",
            "--------------------------------------------------\n",
            "Song: One Dance (Year: 2016, Rank: 3)\n",
            "Original: Baby, I like your style\r\n",
            "\r\n",
            "Grips on your waist, front way, back way\r\n",
            "You know that I don't play\r\n",
            "Streets not safe but I never run away\r\n",
            "Even when I'm away\r\n",
            "Oti, oti\r\n",
            "There's never much love when we go OT\r\n",
            "I pray to make it back in one piece\r\n",
            "I pray, I pray\r\n",
            "\r\n",
            "That's why I need a one dance\r\n",
            "Got a Hennessy in my hand\r\n",
            "One more time 'fore I go\r\n",
            "Higher powers taking a hold on me\r\n",
            "I need a one dance\r\n",
            "Got a Hennessy in my hand\r\n",
            "One more time 'fore I go\r\n",
            "Higher powers taking a hold on me\r\n",
            "Baby, I like your style\r\n",
            "You might also like\r\n",
            "Strength and guidance\r\n",
            "All that I'm wishing for my friends\r\n",
            "Nobody makes it from my ends\r\n",
            "I had to bust up the silence\r\n",
            "You know you gotta stick by me\r\n",
            "Soon as you see the text, reply me\r\n",
            "I don't wanna spend time fighting\r\n",
            "We've got no time, and that's why\r\n",
            "\r\n",
            "I need a one dance\r\n",
            "Got a Hennessy in my hand\r\n",
            "One more time 'fore I go\r\n",
            "Higher powers taking a hold on me\r\n",
            "I need a one dance\r\n",
            "Got a Hennessy in my hand\r\n",
            "One more time 'fore I go\r\n",
            "Higher powers taking a hold on me\r\n",
            "\r\n",
            "Got a pretty girl and she love me long time\r\n",
            "Wine it, wine it, she love me long time\r\n",
            "Oh, yeah, very long time\r\n",
            "Back up, back up, back up, and wine am\r\n",
            "Back up, back up, and wine am, girl, just\r\n",
            "Back up, back up, back up, and wine am\r\n",
            "Oh, yeah, very long time\r\n",
            "Back, up, back up and wine am, girl\r\n",
            "Oh, tell me, I need to know\r\n",
            "Where do you wanna go?\r\n",
            "'Cause if you're down, I'll take it slow\r\n",
            "Make you lose control\r\n",
            "\r\n",
            "Where, where, where\r\n",
            "Where, where, where, where (Oh, yeah, very long time)\r\n",
            "Where, where, where (Back up, back up, and wine am, girl)\r\n",
            "Where, where, where, where\r\n",
            "'Cause if you're down (Back up, back up, and–)\r\n",
            "'Cause if you're down (Back up, back up, and–)\r\n",
            "'Cause if you're down (Back up, back up, and–)\r\n",
            "\r\n",
            "I need a one dance (Where, where, where)\r\n",
            "Got a Hennessy in my hand (Where, where, where, where)\r\n",
            "One more time 'fore I go (Where)\r\n",
            "Higher powers taking a hold on me (Where, where, where, where)\r\n",
            "I need a one dance\r\n",
            "Got a Hennessy in my hand\r\n",
            "One more time 'fore I go\r\n",
            "Higher powers taking a hold on me\r\n",
            "How do you spell \"Hennessy?\"\r\n",
            "I put two \"N\"s and two \"S\"es, is it like that? Hen... Henn... Henn...\r\n",
            "It's definitely not showing up\r\n",
            "I know \"Hennessy\" has two \"S\"es for sure, so I'm gonna take out one of the \"N\"s234Embed\n",
            "Cleaned: baby i like your style grips on your waist front way back way you know that i dont play streets not safe but i never run away even when im away oti oti theres never much love when we go ot i pray to make it back in one piece i pray i pray thats why i need a one dance got a hennessy in my hand one more timefore i go higher powers taking a hold on me i need a one dance got a hennessy in my hand one more timefore i go higher powers taking a hold on me baby i like your style you might also like strength and guidance all that im wishing for my friends nobody makes it from my ends i had to bust up the silence you know you gotta stick by me soon as you see the text reply me i dont wanna spend time fighting weve got no time and thats why i need a one dance got a hennessy in my hand one more timefore i go higher powers taking a hold on me i need a one dance got a hennessy in my hand one more timefore i go higher powers taking a hold on me got a pretty girl and she love me long time wine it wine it she love me long time oh yeah very long time back up back up back up and wine am back up back up and wine am girl just back up back up back up and wine am oh yeah very long time back up back up and wine am girl oh tell me i need to know where do you wanna go cause if youre down ill take it slow make you lose control where where where where where where where oh yeah very long time where where where back up back up and wine am girl where where where wherecause if youre down back up back up and cause if youre down back up back up and cause if youre down back up back up and i need a one dance where where where got a hennessy in my hand where where where where one more timefore i go where higher powers taking a hold on me where where where where i need a one dance got a hennessy in my hand one more timefore i go higher powers taking a hold on me how do you spell hennessy i put two n s and two s es is it like that hen henn henn its definitely not showing up i know hennessy has two s es for sure so im gonna take out one of the n s\n",
            "--------------------------------------------------\n"
          ]
        }
      ],
      "source": [
        "print(\"Combined Cleaned DataFrame (First 5 rows):\")\n",
        "print(df_combined.head())\n",
        "print(\"\\nOriginal vs Cleaned Lyrics (First 5 rows from 2016-2024 data):\")\n",
        "for i in range(min(5, len(df_spotify_filtered))):\n",
        "    print(f\"Song: {df_spotify_filtered['song'].iloc[i]} (Year: {df_spotify_filtered['year'].iloc[i]}, Rank: {df_spotify_filtered['ranking'].iloc[i]})\")\n",
        "    print(f\"Original: {df_spotify_filtered['lyrics'].iloc[i]}\")\n",
        "    print(f\"Cleaned: {df_spotify_filtered['lyrics_cleaned'].iloc[i]}\")\n",
        "    print(\"-\" * 50)"
      ]
    },
    {
      "cell_type": "markdown",
      "metadata": {
        "id": "L-DuHoigU5YN"
      },
      "source": [
        "Save the combined cleaned data to a new CSV file"
      ]
    },
    {
      "cell_type": "code",
      "execution_count": 13,
      "metadata": {
        "colab": {
          "base_uri": "https://localhost:8080/"
        },
        "id": "pl7z-1IaU5wp",
        "outputId": "c1552d0c-eae4-497d-9f42-4a6f4d479ebf"
      },
      "outputs": [
        {
          "output_type": "stream",
          "name": "stdout",
          "text": [
            "Combined cleaned data saved to 'billboard_1964_2024_lyrics_cleaned.csv'\n",
            "Number of unique records: 6280\n"
          ]
        }
      ],
      "source": [
        "df_combined.to_csv('billboard_1964_2024_lyrics_cleaned.csv', index=False)\n",
        "print(\"Combined cleaned data saved to 'billboard_1964_2024_lyrics_cleaned.csv'\")\n",
        "print(f\"Number of unique records: {len(df_combined)}\")"
      ]
    },
    {
      "cell_type": "markdown",
      "source": [
        "Generating a basic score for judging a song's performance"
      ],
      "metadata": {
        "id": "CSxrq-gLgUKQ"
      }
    },
    {
      "cell_type": "code",
      "source": [
        "import pandas as pd\n",
        "\n",
        "\n",
        "df = pd.read_csv('billboard_1964_2024_lyrics_cleaned.csv')\n",
        "\n",
        "# Group by song, artist, and year to ensure uniqueness\n",
        "grouped = df.groupby(['song', 'artist']).agg({\n",
        "    'ranking': list,   # List of rankings across years\n",
        "    'year': list,      # List of years charted\n",
        "    'lyrics_cleaned': 'first'  # Keep first instance of lyrics\n",
        "}).reset_index()\n",
        "\n",
        "\n",
        "def calculate_mycs(rankings, alpha=0.2):\n",
        "    \"\"\"\n",
        "    Compute Multi-Year Chart Score for a song.\n",
        "\n",
        "    Args:\n",
        "        rankings (list): List of rankings (1-100) across years\n",
        "        alpha (float): Longevity weight (default: 0.2)\n",
        "\n",
        "    Returns:\n",
        "        float: MYCS score\n",
        "    \"\"\"\n",
        "    # Yearly rank scores: (101 - rank)/100\n",
        "    yearly_scores = [(101 - rank)/100 for rank in rankings]\n",
        "    total_rank_score = sum(yearly_scores)\n",
        "\n",
        "    # Longevity multiplier\n",
        "    years = len(rankings)\n",
        "    longevity_multiplier = 1 + alpha * (years - 1)\n",
        "\n",
        "    return total_rank_score * longevity_multiplier\n",
        "\n",
        "grouped['MYCS'] = grouped['ranking'].apply(\n",
        "    lambda x: calculate_mycs(x, alpha=0.2)\n",
        ")\n",
        "\n",
        "grouped = grouped.sort_values('MYCS', ascending=False)\n",
        "\n",
        "\n",
        "output = grouped[['song', 'artist', 'year', 'ranking', 'MYCS', 'lyrics_cleaned']]\n",
        "\n",
        "# Save to CSV\n",
        "output.to_csv('song_mycs_scores.csv', index=False)\n",
        "print(\"Saved results to song_mycs_scores.csv\")\n",
        "\n",
        "\n",
        "print(\"\\nTop 5 Songs by MYCS:\")\n",
        "print(output.head(5)[['song', 'artist', 'year', 'ranking', 'MYCS']])\n"
      ],
      "metadata": {
        "colab": {
          "base_uri": "https://localhost:8080/"
        },
        "id": "wsIPkPF_gTc2",
        "outputId": "9a528c06-d559-4533-f6bc-6083fde685ad"
      },
      "execution_count": 14,
      "outputs": [
        {
          "output_type": "stream",
          "name": "stdout",
          "text": [
            "Saved results to song_mycs_scores.csv\n",
            "\n",
            "Top 5 Songs by MYCS:\n",
            "                                 song         artist  \\\n",
            "156                   Blinding Lights     The Weeknd   \n",
            "2788                    how do i live    leann rimes   \n",
            "861                              Stay  Justin Bieber   \n",
            "862                              Stay  The Kid Laroi   \n",
            "71    All I Want for Christmas Is You   Mariah Carey   \n",
            "\n",
            "                          year           ranking   MYCS  \n",
            "156               [2020, 2021]            [1, 3]  2.376  \n",
            "2788              [1997, 1998]            [9, 5]  2.256  \n",
            "861               [2021, 2022]           [12, 3]  2.244  \n",
            "862               [2021, 2022]           [12, 3]  2.244  \n",
            "71    [2020, 2021, 2022, 2023]  [67, 78, 65, 55]  2.224  \n"
          ]
        }
      ]
    },
    {
      "cell_type": "markdown",
      "metadata": {
        "id": "9tWW1ZHFa9-o"
      },
      "source": [
        "A. Basic Statistical Features\n",
        "Length of lyrics (word count, character count)\n",
        "\n",
        "Unique word count (lexical richness)\n",
        "\n",
        "Average word length\n",
        "\n",
        "Stopword ratio (percentage of common words like \"the\", \"and\")"
      ]
    },
    {
      "cell_type": "code",
      "execution_count": 15,
      "metadata": {
        "colab": {
          "base_uri": "https://localhost:8080/"
        },
        "id": "dg9Wx1MZa9-o",
        "outputId": "b64a3d03-3da3-4511-d760-798a2059011c"
      },
      "outputs": [
        {
          "output_type": "stream",
          "name": "stdout",
          "text": [
            "                              song  word_count  char_count   MYCS\n",
            "0                  Blinding Lights         261        1174  2.376\n",
            "1                    how do i live         279        1212  2.256\n",
            "2                             Stay         423        1790  2.244\n",
            "3                             Stay         423        1790  2.244\n",
            "4  All I Want for Christmas Is You         391        1843  2.224\n"
          ]
        }
      ],
      "source": [
        "\n",
        "# Load the MYCS file\n",
        "df_mycs = pd.read_csv('song_mycs_scores.csv')\n",
        "\n",
        "df_mycs['lyrics_cleaned'] = df_mycs['lyrics_cleaned'].astype(str)\n",
        "\n",
        "df_mycs['word_count'] = df_mycs['lyrics_cleaned'].apply(lambda x: len(x.split()))\n",
        "df_mycs['char_count'] = df_mycs['lyrics_cleaned'].apply(len)\n",
        "\n",
        "print(df_mycs[['song', 'word_count', 'char_count', 'MYCS']].head())\n"
      ]
    },
    {
      "cell_type": "code",
      "execution_count": 16,
      "metadata": {
        "id": "I7FvXeIxa9-o"
      },
      "outputs": [],
      "source": [
        "#Unique word count (lexical richness)\n",
        "from collections import Counter"
      ]
    },
    {
      "cell_type": "code",
      "execution_count": 17,
      "metadata": {
        "colab": {
          "base_uri": "https://localhost:8080/"
        },
        "id": "L9h7fPdda9-o",
        "outputId": "7551c086-4bfd-4653-f54f-3f77a0a0b783"
      },
      "outputs": [
        {
          "output_type": "stream",
          "name": "stdout",
          "text": [
            "                              song  unique_word_count  distinct_word_count  \\\n",
            "0                  Blinding Lights                 43                   96   \n",
            "1                    how do i live                 27                   66   \n",
            "2                             Stay                 42                   88   \n",
            "3                             Stay                 42                   88   \n",
            "4  All I Want for Christmas Is You                 61                  113   \n",
            "\n",
            "   word_count   MYCS  \n",
            "0         261  2.376  \n",
            "1         279  2.256  \n",
            "2         423  2.244  \n",
            "3         423  2.244  \n",
            "4         391  2.224  \n"
          ]
        }
      ],
      "source": [
        "from collections import Counter\n",
        "\n",
        "\n",
        "# Unique word count: words that appear only once\n",
        "df_mycs['unique_word_count'] = df_mycs['lyrics_cleaned'].apply(\n",
        "    lambda x: sum(1 for count in Counter(x.split()).values() if count == 1)\n",
        ")\n",
        "\n",
        "# Optional: Store the actual unique words\n",
        "df_mycs['unique_words'] = df_mycs['lyrics_cleaned'].apply(\n",
        "    lambda x: [word for word, count in Counter(x.split()).items() if count == 1]\n",
        ")\n",
        "\n",
        "# Distinct word count: total number of different words used (vocabulary size)\n",
        "df_mycs['distinct_word_count'] = df_mycs['lyrics_cleaned'].apply(\n",
        "    lambda x: len(set(x.split()))\n",
        ")\n",
        "\n",
        "# Preview the updated DataFrame\n",
        "print(df_mycs[['song', 'unique_word_count', 'distinct_word_count', 'word_count', 'MYCS']].head())\n"
      ]
    },
    {
      "cell_type": "code",
      "execution_count": 18,
      "metadata": {
        "colab": {
          "base_uri": "https://localhost:8080/"
        },
        "id": "iEREODyfa9-o",
        "outputId": "44e9f8a6-b6fb-4c47-f7fb-f16964459282"
      },
      "outputs": [
        {
          "output_type": "stream",
          "name": "stderr",
          "text": [
            "/usr/local/lib/python3.11/dist-packages/numpy/_core/fromnumeric.py:3596: RuntimeWarning: Mean of empty slice.\n",
            "  return _methods._mean(a, axis=axis, dtype=dtype,\n",
            "/usr/local/lib/python3.11/dist-packages/numpy/_core/_methods.py:138: RuntimeWarning: invalid value encountered in scalar divide\n",
            "  ret = ret.dtype.type(ret / rcount)\n"
          ]
        },
        {
          "output_type": "stream",
          "name": "stdout",
          "text": [
            "                              song  avg_word_length\n",
            "0                  Blinding Lights         3.501916\n",
            "1                    how do i live         3.340502\n",
            "2                             Stay         3.234043\n",
            "3                             Stay         3.234043\n",
            "4  All I Want for Christmas Is You         3.716113\n",
            "5                       Heat Waves         4.190955\n",
            "6                        As It Was         3.529167\n",
            "7                           Closer         3.985994\n",
            "8                           Closer         3.985994\n",
            "9                           smooth         3.788856\n"
          ]
        }
      ],
      "source": [
        "import numpy as np\n",
        "\n",
        "\n",
        "# Calculate average word length\n",
        "df_mycs['avg_word_length'] = df_mycs['lyrics_cleaned'].apply(\n",
        "    lambda x: np.mean([len(word) for word in x.split()]) if x else 0\n",
        ")\n",
        "\n",
        "# Preview the result\n",
        "print(df_mycs[['song', 'avg_word_length']].head(10))\n"
      ]
    },
    {
      "cell_type": "code",
      "execution_count": 19,
      "metadata": {
        "colab": {
          "base_uri": "https://localhost:8080/"
        },
        "id": "WH610MJra9-o",
        "outputId": "ce70e46f-fb4a-4e90-df2b-6ea1f93ff616"
      },
      "outputs": [
        {
          "output_type": "stream",
          "name": "stderr",
          "text": [
            "[nltk_data] Downloading package stopwords to /root/nltk_data...\n",
            "[nltk_data]   Unzipping corpora/stopwords.zip.\n"
          ]
        },
        {
          "output_type": "stream",
          "name": "stdout",
          "text": [
            "                              song  stopword_ratio\n",
            "0                  Blinding Lights            0.43\n",
            "1                    how do i live            0.56\n",
            "2                             Stay            0.47\n",
            "3                             Stay            0.47\n",
            "4  All I Want for Christmas Is You            0.48\n"
          ]
        }
      ],
      "source": [
        "import nltk\n",
        "from nltk.corpus import stopwords\n",
        "import numpy as np\n",
        "\n",
        "# Download stopwords if not already downloaded\n",
        "nltk.download('stopwords')\n",
        "stop_words = set(stopwords.words('english'))\n",
        "\n",
        "# Calculate stopword ratio for df_mycs\n",
        "df_mycs['stopword_ratio'] = df_mycs['lyrics_cleaned'].apply(\n",
        "    lambda x: np.round(\n",
        "        sum(1 for word in str(x).split() if word.lower() in stop_words) / max(len(str(x).split()), 1),\n",
        "        2  # Round to 2 decimal places\n",
        "    )\n",
        ")\n",
        "\n",
        "# Preview result\n",
        "print(df_mycs[['song', 'stopword_ratio']].head())\n"
      ]
    },
    {
      "cell_type": "markdown",
      "metadata": {
        "id": "AOmI-uOAa9-p"
      },
      "source": [
        "B. Linguistic & Sentiment Features\n",
        "Sentiment Analysis (positive/negative sentiment score)\n",
        "\n",
        "Emotion detection (anger, joy, sadness, etc.)\n",
        "\n",
        "Lexical diversity (ratio of unique words to total words)\n"
      ]
    },
    {
      "cell_type": "code",
      "execution_count": 20,
      "metadata": {
        "colab": {
          "base_uri": "https://localhost:8080/"
        },
        "id": "TU0czZGOa9-p",
        "outputId": "da4c8655-0b3d-4a63-b82a-6e7263adb299"
      },
      "outputs": [
        {
          "output_type": "stream",
          "name": "stderr",
          "text": [
            "[nltk_data] Downloading package vader_lexicon to /root/nltk_data...\n"
          ]
        },
        {
          "output_type": "stream",
          "name": "stdout",
          "text": [
            "                                      lyrics_cleaned  pos_ratio  neg_ratio  \\\n",
            "0  yeah ive been tryna call ive been on my own fo...      0.077      0.094   \n",
            "1   how do i get through one night without you if...      0.039      0.071   \n",
            "2  i do the same thing i told you that i never wo...      0.071      0.095   \n",
            "3  i do the same thing i told you that i never wo...      0.071      0.095   \n",
            "4  i dont want a lot for christmas there is just ...      0.103      0.086   \n",
            "\n",
            "   neu_ratio  \n",
            "0      0.829  \n",
            "1      0.890  \n",
            "2      0.834  \n",
            "3      0.834  \n",
            "4      0.811  \n"
          ]
        }
      ],
      "source": [
        "#Sentiment Analysis (positive/negative sentiment score)\n",
        "from nltk.sentiment import SentimentIntensityAnalyzer\n",
        "#Sentiment Analysis (positive/negative sentiment score)\n",
        "nltk.download('vader_lexicon')\n",
        "\n",
        "# Initialize the sentiment analyzer\n",
        "sia = SentimentIntensityAnalyzer()\n",
        "\n",
        "# Function to calculate sentiment ratios\n",
        "def sentiment_ratios(text):\n",
        "    scores = sia.polarity_scores(str(text))  # Get sentiment scores\n",
        "    total = scores['pos'] + scores['neg'] + scores['neu']  # Total sentiment score sum\n",
        "\n",
        "    if total == 0:  # Avoid division by zero\n",
        "        return (0, 0)\n",
        "\n",
        "    pos_ratio = scores['pos'] / total  # Positive sentiment ratio\n",
        "    neg_ratio = scores['neg'] / total  # Negative sentiment ratio\n",
        "    neu_ratio = scores ['neu'] / total\n",
        "    return pos_ratio, neg_ratio ,neu_ratio\n",
        "\n",
        "# Apply function to each row\n",
        "df_mycs[['pos_ratio', 'neg_ratio','neu_ratio']] = df_mycs['lyrics_cleaned'].apply(\n",
        "    lambda x: pd.Series(sentiment_ratios(x))\n",
        ")\n",
        "\n",
        "print(df_mycs[['lyrics_cleaned', 'pos_ratio', 'neg_ratio', 'neu_ratio']].head())\n"
      ]
    },
    {
      "cell_type": "code",
      "source": [
        "from nltk.sentiment import SentimentIntensityAnalyzer\n",
        "sia = SentimentIntensityAnalyzer()\n",
        "\n",
        "df_mycs['compound'] = df_mycs['lyrics_cleaned'].apply(\n",
        "    lambda x: sia.polarity_scores(str(x))['compound']\n",
        ")\n",
        "print(df_mycs[['lyrics_cleaned', 'compound']].head())"
      ],
      "metadata": {
        "colab": {
          "base_uri": "https://localhost:8080/"
        },
        "id": "MInNPiiV8ij1",
        "outputId": "5bb07a49-699a-4771-86b5-d86fd68e5947"
      },
      "execution_count": 21,
      "outputs": [
        {
          "output_type": "stream",
          "name": "stdout",
          "text": [
            "                                      lyrics_cleaned  compound\n",
            "0  yeah ive been tryna call ive been on my own fo...   -0.1068\n",
            "1   how do i get through one night without you if...   -0.1195\n",
            "2  i do the same thing i told you that i never wo...   -0.8523\n",
            "3  i do the same thing i told you that i never wo...   -0.8523\n",
            "4  i dont want a lot for christmas there is just ...    0.9672\n"
          ]
        }
      ]
    },
    {
      "cell_type": "markdown",
      "source": [
        "Syllable count"
      ],
      "metadata": {
        "id": "NiTedx_k8fDF"
      }
    },
    {
      "cell_type": "code",
      "source": [
        "!pip install phonemizer"
      ],
      "metadata": {
        "colab": {
          "base_uri": "https://localhost:8080/"
        },
        "id": "TJQnWKQqISx2",
        "outputId": "8bc7c416-f32d-4343-c6b5-655147c18928"
      },
      "execution_count": 46,
      "outputs": [
        {
          "output_type": "stream",
          "name": "stdout",
          "text": [
            "Collecting phonemizer\n",
            "  Using cached phonemizer-3.3.0-py3-none-any.whl.metadata (48 kB)\n",
            "Requirement already satisfied: joblib in /usr/local/lib/python3.11/dist-packages (from phonemizer) (1.4.2)\n",
            "Collecting segments (from phonemizer)\n",
            "  Using cached segments-2.3.0-py2.py3-none-any.whl.metadata (3.5 kB)\n",
            "Requirement already satisfied: attrs>=18.1 in /usr/local/lib/python3.11/dist-packages (from phonemizer) (25.3.0)\n",
            "Collecting dlinfo (from phonemizer)\n",
            "  Using cached dlinfo-2.0.0-py3-none-any.whl.metadata (1.1 kB)\n",
            "Requirement already satisfied: typing-extensions in /usr/local/lib/python3.11/dist-packages (from phonemizer) (4.13.0)\n",
            "Requirement already satisfied: regex in /usr/local/lib/python3.11/dist-packages (from segments->phonemizer) (2024.11.6)\n",
            "Collecting csvw>=1.5.6 (from segments->phonemizer)\n",
            "  Using cached csvw-3.5.1-py2.py3-none-any.whl.metadata (10 kB)\n",
            "Collecting isodate (from csvw>=1.5.6->segments->phonemizer)\n",
            "  Using cached isodate-0.7.2-py3-none-any.whl.metadata (11 kB)\n",
            "Requirement already satisfied: python-dateutil in /usr/local/lib/python3.11/dist-packages (from csvw>=1.5.6->segments->phonemizer) (2.8.2)\n",
            "Requirement already satisfied: rfc3986<2 in /usr/local/lib/python3.11/dist-packages (from csvw>=1.5.6->segments->phonemizer) (1.5.0)\n",
            "Requirement already satisfied: uritemplate>=3.0.0 in /usr/local/lib/python3.11/dist-packages (from csvw>=1.5.6->segments->phonemizer) (4.1.1)\n",
            "Requirement already satisfied: babel in /usr/local/lib/python3.11/dist-packages (from csvw>=1.5.6->segments->phonemizer) (2.17.0)\n",
            "Requirement already satisfied: requests in /usr/local/lib/python3.11/dist-packages (from csvw>=1.5.6->segments->phonemizer) (2.32.3)\n",
            "Requirement already satisfied: language-tags in /usr/local/lib/python3.11/dist-packages (from csvw>=1.5.6->segments->phonemizer) (1.2.0)\n",
            "Requirement already satisfied: rdflib in /usr/local/lib/python3.11/dist-packages (from csvw>=1.5.6->segments->phonemizer) (7.1.4)\n",
            "Collecting colorama (from csvw>=1.5.6->segments->phonemizer)\n",
            "  Using cached colorama-0.4.6-py2.py3-none-any.whl.metadata (17 kB)\n",
            "Requirement already satisfied: jsonschema in /usr/local/lib/python3.11/dist-packages (from csvw>=1.5.6->segments->phonemizer) (4.23.0)\n",
            "Requirement already satisfied: jsonschema-specifications>=2023.03.6 in /usr/local/lib/python3.11/dist-packages (from jsonschema->csvw>=1.5.6->segments->phonemizer) (2024.10.1)\n",
            "Requirement already satisfied: referencing>=0.28.4 in /usr/local/lib/python3.11/dist-packages (from jsonschema->csvw>=1.5.6->segments->phonemizer) (0.36.2)\n",
            "Requirement already satisfied: rpds-py>=0.7.1 in /usr/local/lib/python3.11/dist-packages (from jsonschema->csvw>=1.5.6->segments->phonemizer) (0.24.0)\n",
            "Requirement already satisfied: six>=1.5 in /usr/local/lib/python3.11/dist-packages (from python-dateutil->csvw>=1.5.6->segments->phonemizer) (1.17.0)\n",
            "Requirement already satisfied: pyparsing<4,>=2.1.0 in /usr/local/lib/python3.11/dist-packages (from rdflib->csvw>=1.5.6->segments->phonemizer) (3.2.3)\n",
            "Requirement already satisfied: charset-normalizer<4,>=2 in /usr/local/lib/python3.11/dist-packages (from requests->csvw>=1.5.6->segments->phonemizer) (3.4.1)\n",
            "Requirement already satisfied: idna<4,>=2.5 in /usr/local/lib/python3.11/dist-packages (from requests->csvw>=1.5.6->segments->phonemizer) (3.10)\n",
            "Requirement already satisfied: urllib3<3,>=1.21.1 in /usr/local/lib/python3.11/dist-packages (from requests->csvw>=1.5.6->segments->phonemizer) (2.3.0)\n",
            "Requirement already satisfied: certifi>=2017.4.17 in /usr/local/lib/python3.11/dist-packages (from requests->csvw>=1.5.6->segments->phonemizer) (2025.1.31)\n",
            "Using cached phonemizer-3.3.0-py3-none-any.whl (103 kB)\n",
            "Using cached dlinfo-2.0.0-py3-none-any.whl (3.7 kB)\n",
            "Using cached segments-2.3.0-py2.py3-none-any.whl (15 kB)\n",
            "Using cached csvw-3.5.1-py2.py3-none-any.whl (59 kB)\n",
            "Using cached colorama-0.4.6-py2.py3-none-any.whl (25 kB)\n",
            "Using cached isodate-0.7.2-py3-none-any.whl (22 kB)\n",
            "Installing collected packages: isodate, dlinfo, colorama, csvw, segments, phonemizer\n",
            "Successfully installed colorama-0.4.6 csvw-3.5.1 dlinfo-2.0.0 isodate-0.7.2 phonemizer-3.3.0 segments-2.3.0\n"
          ]
        }
      ]
    },
    {
      "cell_type": "code",
      "source": [
        "!pip install syllapy"
      ],
      "metadata": {
        "colab": {
          "base_uri": "https://localhost:8080/"
        },
        "id": "6uWVTfYGILSf",
        "outputId": "b66765d1-a637-4a3e-9fba-8b093e8df94b"
      },
      "execution_count": 23,
      "outputs": [
        {
          "output_type": "stream",
          "name": "stdout",
          "text": [
            "Collecting syllapy\n",
            "  Downloading syllapy-0.7.2-py3-none-any.whl.metadata (854 bytes)\n",
            "Downloading syllapy-0.7.2-py3-none-any.whl (24 kB)\n",
            "Installing collected packages: syllapy\n",
            "Successfully installed syllapy-0.7.2\n"
          ]
        }
      ]
    },
    {
      "cell_type": "code",
      "source": [
        "!pip install espeak-ng"
      ],
      "metadata": {
        "colab": {
          "base_uri": "https://localhost:8080/"
        },
        "id": "xKzbuQc3IOwS",
        "outputId": "2f6240c8-4633-4723-8174-411ca7d578e7"
      },
      "execution_count": 48,
      "outputs": [
        {
          "output_type": "stream",
          "name": "stdout",
          "text": [
            "\u001b[31mERROR: Could not find a version that satisfies the requirement espeak-ng (from versions: none)\u001b[0m\u001b[31m\n",
            "\u001b[0m\u001b[31mERROR: No matching distribution found for espeak-ng\u001b[0m\u001b[31m\n",
            "\u001b[0m"
          ]
        }
      ]
    },
    {
      "cell_type": "code",
      "source": [
        "import syllapy\n",
        "\n",
        "# Function to count syllables in a text\n",
        "def count_syllables(text):\n",
        "    # Split text into words, count syllables for each word, and sum them\n",
        "    return sum(syllapy.count(word) for word in text.split())\n",
        "\n",
        "# Ensure 'lyrics_cleaned' is treated as a string\n",
        "df_mycs['lyrics_cleaned'] = df_mycs['lyrics_cleaned'].astype(str)\n",
        "\n",
        "# Calculate syllable count\n",
        "df_mycs['syllable_count'] = df_mycs['lyrics_cleaned'].apply(count_syllables)\n",
        "\n",
        "# Preview result\n",
        "print(df_mycs[['song', 'syllable_count']].head())\n"
      ],
      "metadata": {
        "colab": {
          "base_uri": "https://localhost:8080/"
        },
        "id": "0usrxc8R9LOO",
        "outputId": "498465f2-6c26-4266-c1ea-822043a22cbf"
      },
      "execution_count": 24,
      "outputs": [
        {
          "output_type": "stream",
          "name": "stdout",
          "text": [
            "                              song  syllable_count\n",
            "0                  Blinding Lights             299\n",
            "1                    how do i live             335\n",
            "2                             Stay             467\n",
            "3                             Stay             467\n",
            "4  All I Want for Christmas Is You             473\n"
          ]
        }
      ]
    },
    {
      "cell_type": "code",
      "source": [
        "!pip install pronouncing"
      ],
      "metadata": {
        "colab": {
          "base_uri": "https://localhost:8080/"
        },
        "id": "6Db1ds-AMudL",
        "outputId": "8fce54e5-c10a-413f-e24a-5269f7a45c90"
      },
      "execution_count": 26,
      "outputs": [
        {
          "output_type": "stream",
          "name": "stdout",
          "text": [
            "Requirement already satisfied: pronouncing in /usr/local/lib/python3.11/dist-packages (0.2.0)\n",
            "Requirement already satisfied: cmudict>=0.4.0 in /usr/local/lib/python3.11/dist-packages (from pronouncing) (1.0.32)\n",
            "Requirement already satisfied: importlib-metadata>=5 in /usr/local/lib/python3.11/dist-packages (from cmudict>=0.4.0->pronouncing) (8.6.1)\n",
            "Requirement already satisfied: importlib-resources>=5 in /usr/local/lib/python3.11/dist-packages (from cmudict>=0.4.0->pronouncing) (6.5.2)\n",
            "Requirement already satisfied: zipp>=3.20 in /usr/local/lib/python3.11/dist-packages (from importlib-metadata>=5->cmudict>=0.4.0->pronouncing) (3.21.0)\n"
          ]
        }
      ]
    },
    {
      "cell_type": "code",
      "source": [
        "import pronouncing\n",
        "\n",
        "\n",
        "def rhyme_count(lyrics):\n",
        "    words = str(lyrics).lower().split()\n",
        "    if not words or lyrics is None or pd.isna(lyrics):\n",
        "        return 0\n",
        "\n",
        "    # Get unique words to avoid overcounting repeats\n",
        "    unique_words = set(words)\n",
        "    rhyme_pairs = 0\n",
        "\n",
        "    # Check each word against others for rhymes\n",
        "    for i, word1 in enumerate(sorted(unique_words)):\n",
        "        rhymes = pronouncing.rhymes(word1)\n",
        "        for word2 in sorted(unique_words)[i+1:]:\n",
        "\n",
        "            if word2 in rhymes:\n",
        "                rhyme_pairs += 1\n",
        "\n",
        "    return rhyme_pairs\n",
        "\n",
        "df_mycs['rhyme_pairs'] = df_mycs['lyrics_cleaned'].apply(rhyme_count)\n",
        "\n",
        "# Preview the results\n",
        "print(\"First 5 rows with rhyme_pairs:\")\n",
        "print(df_mycs[['lyrics_cleaned', 'rhyme_pairs']].head())\n"
      ],
      "metadata": {
        "colab": {
          "base_uri": "https://localhost:8080/"
        },
        "id": "eHIG9BR9vaLb",
        "outputId": "a45d9f3a-9054-4c81-aa1b-843ea3adb4cf"
      },
      "execution_count": 29,
      "outputs": [
        {
          "output_type": "stream",
          "name": "stdout",
          "text": [
            "First 5 rows with rhyme_pairs:\n",
            "                                      lyrics_cleaned  rhyme_pairs\n",
            "0  yeah ive been tryna call ive been on my own fo...           50\n",
            "1   how do i get through one night without you if...           23\n",
            "2  i do the same thing i told you that i never wo...           42\n",
            "3  i do the same thing i told you that i never wo...           42\n",
            "4  i dont want a lot for christmas there is just ...           42\n",
            "Correlation between MYCS and rhyme_pairs: 0.0040362425268622775\n"
          ]
        }
      ]
    },
    {
      "cell_type": "code",
      "source": [
        "df_mycs['rhyme_density'] = df_mycs['rhyme_pairs'] / df_mycs['distinct_word_count']\n",
        "\n",
        "# Handle cases where distinct_word_count is 0 to avoid division-by-zero\n",
        "df_mycs['rhyme_density'] = df_mycs['rhyme_density'].fillna(0).replace([float('inf')], 0)\n",
        "\n",
        "# Preview the results\n",
        "print(\"First 5 rows with rhyme_density:\")\n",
        "print(df_mycs[['lyrics_cleaned', 'rhyme_pairs', 'distinct_word_count', 'rhyme_density']].head())"
      ],
      "metadata": {
        "colab": {
          "base_uri": "https://localhost:8080/"
        },
        "id": "zRODOdrxzsvE",
        "outputId": "6e14873e-6d40-4b1e-d663-6bfebc16157e"
      },
      "execution_count": 33,
      "outputs": [
        {
          "output_type": "stream",
          "name": "stdout",
          "text": [
            "First 5 rows with rhyme_density:\n",
            "                                      lyrics_cleaned  rhyme_pairs  \\\n",
            "0  yeah ive been tryna call ive been on my own fo...           50   \n",
            "1   how do i get through one night without you if...           23   \n",
            "2  i do the same thing i told you that i never wo...           42   \n",
            "3  i do the same thing i told you that i never wo...           42   \n",
            "4  i dont want a lot for christmas there is just ...           42   \n",
            "\n",
            "   distinct_word_count  rhyme_density  \n",
            "0                   96       0.520833  \n",
            "1                   66       0.348485  \n",
            "2                   88       0.477273  \n",
            "3                   88       0.477273  \n",
            "4                  113       0.371681  \n"
          ]
        }
      ]
    },
    {
      "cell_type": "markdown",
      "source": [
        "Rhyme pattern"
      ],
      "metadata": {
        "id": "j6VkjyJB0mQf"
      }
    },
    {
      "cell_type": "markdown",
      "source": [
        "TOPICS?"
      ],
      "metadata": {
        "id": "cYBh9_1G3qsA"
      }
    },
    {
      "cell_type": "markdown",
      "source": [
        "what words correlate most with mycs?"
      ],
      "metadata": {
        "id": "OnL3SkiH5nBo"
      }
    },
    {
      "cell_type": "markdown",
      "source": [],
      "metadata": {
        "id": "3BdvhAvI3t03"
      }
    },
    {
      "cell_type": "code",
      "execution_count": 34,
      "metadata": {
        "colab": {
          "base_uri": "https://localhost:8080/"
        },
        "id": "ybdrbUuja9-p",
        "outputId": "683c5ed9-0617-4765-d7c3-f54cdd4082df"
      },
      "outputs": [
        {
          "output_type": "stream",
          "name": "stdout",
          "text": [
            "Index(['song', 'artist', 'year', 'ranking', 'MYCS', 'lyrics_cleaned',\n",
            "       'word_count', 'char_count', 'unique_word_count', 'unique_words',\n",
            "       'distinct_word_count', 'avg_word_length', 'stopword_ratio', 'pos_ratio',\n",
            "       'neg_ratio', 'neu_ratio', 'compound', 'syllable_count', 'rhyme_pairs',\n",
            "       'rhyme_density'],\n",
            "      dtype='object')\n"
          ]
        }
      ],
      "source": [
        "print(df_mycs.columns)\n"
      ]
    }
  ],
  "metadata": {
    "colab": {
      "provenance": []
    },
    "kernelspec": {
      "display_name": "Python 3",
      "name": "python3"
    },
    "language_info": {
      "codemirror_mode": {
        "name": "ipython",
        "version": 3
      },
      "file_extension": ".py",
      "mimetype": "text/x-python",
      "name": "python",
      "nbconvert_exporter": "python",
      "pygments_lexer": "ipython3",
      "version": "3.11.9"
    }
  },
  "nbformat": 4,
  "nbformat_minor": 0
}